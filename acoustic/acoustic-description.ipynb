{
 "cells": [
  {
   "cell_type": "markdown",
   "id": "1b514969",
   "metadata": {},
   "source": [
    "# Title\n",
    "\n",
    "Some background about the project. \n",
    "\n",
    "Main goal of the project\n",
    "\n",
    "### Further reading\n",
    "- Provide some links here!"
   ]
  },
  {
   "cell_type": "code",
   "execution_count": 1,
   "id": "23780aa7",
   "metadata": {},
   "outputs": [],
   "source": [
    "##### Start coding! Make sure to include lots of comments!\n",
    "# Import packages\n",
    "# standard imports\n",
    "import numpy as np\n",
    "import matplotlib as plt\n",
    "\n",
    "# plotting options\n",
    "%matplotlib inline"
   ]
  },
  {
   "cell_type": "code",
   "execution_count": null,
   "id": "ece2c6b2",
   "metadata": {},
   "outputs": [],
   "source": []
  }
 ],
 "metadata": {
  "kernelspec": {
   "display_name": "Python 3 (ipykernel)",
   "language": "python",
   "name": "python3"
  },
  "language_info": {
   "codemirror_mode": {
    "name": "ipython",
    "version": 3
   },
   "file_extension": ".py",
   "mimetype": "text/x-python",
   "name": "python",
   "nbconvert_exporter": "python",
   "pygments_lexer": "ipython3",
   "version": "3.10.6"
  }
 },
 "nbformat": 4,
 "nbformat_minor": 5
}
