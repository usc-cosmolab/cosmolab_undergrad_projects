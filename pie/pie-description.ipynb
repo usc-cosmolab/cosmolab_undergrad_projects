{
 "cells": [
  {
   "attachments": {},
   "cell_type": "markdown",
   "id": "1b514969",
   "metadata": {},
   "source": [
    "# Pie chart of the Universe\n",
    "\n",
    "Reading: Introduction to Cosmology by Barbara Ryden, chapters relating to the overall contents of the universe and the evolution of the matter, radiation, and dark energy fluids with time.\n",
    "\n",
    "Brief project description:\n",
    "\n",
    "In the early universe, prior to formation of galaxies, the universe was hot and dense, in a plasma state. Baryons (normal matter) was tightly coupled to radiation and undergoing acustic oscillations (sound waves): overdense regions were collapsing under gravity, with the pressure of radiation opposing gravitational contraction; the balance of the two produced sound waves that propagated through the universe, until the universe cooled down to about 3000 K (about 370,000 years after the Big Bang) and the atoms recombined, allowing photons to freely stream and structure to slowly begin forming. \n",
    "\n",
    "Your task is to install and learn how to use Boltzmann code CLASS, in order to track the evolution of matter in the universe at these early times. Specifically, you will need to learn how to use the the Real Space Interface (RSI) feature of CLASS in order to visualize plasma in the early universe in real space. You will produce visualizations of the early universe in scenarios where different physical processes defined growth of structure, in particular exploring the effects of dark matter.\n",
    "\n",
    "\n",
    "### Quick view\n",
    "\n",
    "Here's what your product will look like.\n"
   ]
  },
  {
   "cell_type": "markdown",
   "id": "99149891",
   "metadata": {},
   "source": []
  },
  {
   "cell_type": "code",
   "execution_count": null,
   "id": "ece2c6b2",
   "metadata": {},
   "outputs": [],
   "source": [
    "##### Start coding! Make sure to include lots of comments!\n"
   ]
  }
 ],
 "metadata": {
  "kernelspec": {
   "display_name": "Python 3 (ipykernel)",
   "language": "python",
   "name": "python3"
  },
  "language_info": {
   "codemirror_mode": {
    "name": "ipython",
    "version": 3
   },
   "file_extension": ".py",
   "mimetype": "text/x-python",
   "name": "python",
   "nbconvert_exporter": "python",
   "pygments_lexer": "ipython3",
   "version": "3.10.13"
  }
 },
 "nbformat": 4,
 "nbformat_minor": 5
}
