{
 "cells": [
  {
   "attachments": {},
   "cell_type": "markdown",
   "id": "1b514969",
   "metadata": {},
   "source": [
    "# Pie chart of the Universe\n",
    "\n",
    "Reading: Introduction to Cosmology by Barbara Ryden, chapters relating to the overall contents of the universe and the evolution of the matter, radiation, and dark energy fluids with time.\n",
    "\n",
    "Brief project description:\n",
    "\n",
    "The major constituents of our universe are dark matter (today about 25%), normal matter (today about 5%), dark energy (today about 70%), and radiation (today trace amounts). The fractional representation of these fluids in the composition of the universe has been changing as the universe expanded over billions of year of cosmic history.\n",
    "\n",
    "Your task is to use cosmological formulas that describe the content of the universe at a given point in time, figure out how to write python code to perform related calculations, and create a movie that shows the evolving pie chart of the universe, such as the one showen here: https://github.com/usc-cosmolab/cosmolab_undergrad_projects/blob/main/pie/movie-pie.gif. Try to make your pie chart as accurate as you can, perhaps tilt it in 3d, as the still image shown here: https://github.com/usc-cosmolab/cosmolab_undergrad_projects/blob/main/pie/still-pie.jpeg. You get to choose whether the time should flow from today towards the past, or from the Big Bang towards the present. Keep in mind that your images should be color-blind friendly, use google to help you identify appropriate colors and shades to use.\n",
    "\n",
    "\n"
   ]
  },
  {
   "cell_type": "code",
   "execution_count": null,
   "id": "ece2c6b2",
   "metadata": {},
   "outputs": [],
   "source": [
    "##### Start coding! Make sure to include lots of comments!\n"
   ]
  }
 ],
 "metadata": {
  "kernelspec": {
   "display_name": "Python 3 (ipykernel)",
   "language": "python",
   "name": "python3"
  },
  "language_info": {
   "codemirror_mode": {
    "name": "ipython",
    "version": 3
   },
   "file_extension": ".py",
   "mimetype": "text/x-python",
   "name": "python",
   "nbconvert_exporter": "python",
   "pygments_lexer": "ipython3",
   "version": "3.10.13"
  }
 },
 "nbformat": 4,
 "nbformat_minor": 5
}
